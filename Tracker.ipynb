{
 "cells": [
  {
   "cell_type": "code",
   "execution_count": 2,
   "id": "f527a79b",
   "metadata": {},
   "outputs": [],
   "source": [
    "import cv2\n",
    "import mouse\n",
    "from time import sleep\n",
    "cap = cv2.VideoCapture(0)\n",
    "\n",
    "x1=0\n",
    "x2=0\n",
    "y1=0\n",
    "y2=0\n",
    "while(True):\n",
    "    ret, frame = cap.read()\n",
    "    rgb = cv2.cvtColor(frame, cv2.COLOR_BGR2BGRA)\n",
    "\n",
    "    cv2.imshow('frame', rgb)\n",
    "    n=480\n",
    "    m=640\n",
    "    \n",
    "    for i in range(0,n,2):\n",
    "        for j in range(0,m,2):\n",
    "            if rgb[i][j][2]>200 and rgb[i][j][1]<80 and rgb[i][j][0]<80:\n",
    "                if(x1==0):\n",
    "                    x1=i\n",
    "                    y1=j\n",
    "                print(\"location: \",rgb[200][200][2],\":=\",i,j)\n",
    "                mouse.drag(x1+100, y1+100, i, j, absolute=True, duration=0.1)\n",
    "                sleep(1)\n",
    "                n=0\n",
    "                m=0\n",
    "\n",
    "        if n==0:\n",
    "            break\n",
    "    \n",
    "   \n",
    "    \n",
    "                            \n",
    "    if cv2.waitKey(1) & 0xFF == ord('q'):\n",
    "        break\n",
    "#     break;\n",
    "\n",
    "cap.release()\n",
    "cv2.destroyAllWindows()"
   ]
  }
 ],
 "metadata": {
  "kernelspec": {
   "display_name": "Python 3 (ipykernel)",
   "language": "python",
   "name": "python3"
  },
  "language_info": {
   "codemirror_mode": {
    "name": "ipython",
    "version": 3
   },
   "file_extension": ".py",
   "mimetype": "text/x-python",
   "name": "python",
   "nbconvert_exporter": "python",
   "pygments_lexer": "ipython3",
   "version": "3.9.12"
  }
 },
 "nbformat": 4,
 "nbformat_minor": 5
}
